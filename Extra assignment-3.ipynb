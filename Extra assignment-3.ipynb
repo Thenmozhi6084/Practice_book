{
 "cells": [
  {
   "cell_type": "code",
   "execution_count": 6,
   "id": "335cc51c-4460-410a-902a-699040207885",
   "metadata": {},
   "outputs": [
    {
     "name": "stdin",
     "output_type": "stream",
     "text": [
      "Enter the num: 20\n"
     ]
    },
    {
     "name": "stdout",
     "output_type": "stream",
     "text": [
      "Wrong\n"
     ]
    }
   ],
   "source": [
    "i=int(input(\"Enter the num:\"))\n",
    "if(i==10):\n",
    "   print(\"Correct\")\n",
    "else:\n",
    "    print(\"Wrong\")"
   ]
  },
  {
   "cell_type": "code",
   "execution_count": 14,
   "id": "f329ccdd-8352-4c3e-bfda-f77b46a2d085",
   "metadata": {},
   "outputs": [
    {
     "name": "stdin",
     "output_type": "stream",
     "text": [
      "Enter your password: HOPE@123\n"
     ]
    },
    {
     "name": "stdout",
     "output_type": "stream",
     "text": [
      "Your password is correct\n"
     ]
    }
   ],
   "source": [
    "pas=str(input(\"Enter your password:\"))\n",
    "if(pas==\"HOPE@123\"):\n",
    "    print(\"Your password is correct\")\n",
    "else:\n",
    "    print(\"check your password\")"
   ]
  },
  {
   "cell_type": "code",
   "execution_count": 16,
   "id": "7c5eeb0d-81ec-48fa-beef-543b09e97ae5",
   "metadata": {},
   "outputs": [
    {
     "name": "stdin",
     "output_type": "stream",
     "text": [
      "Enter your age: 52\n"
     ]
    },
    {
     "name": "stdout",
     "output_type": "stream",
     "text": [
      "Middle age Adult\n"
     ]
    }
   ],
   "source": [
    "age=int(input(\"Enter your age:\"))\n",
    "if(age<=1):\n",
    "    print(\"Infant\")\n",
    "elif(age<=4):\n",
    "     print(\"Toddler\")\n",
    "elif(age<=12):\n",
    "    print(\"Child\")\n",
    "elif(age<=19):\n",
    "    print(\"Teen\")\n",
    "elif(age<=39):\n",
    "    print(\"Adult\")\n",
    "elif(age<=59):\n",
    "    print(\"Middle age Adult\")\n",
    "elif(age>=60):\n",
    "    print(\"Senior Citizen\")"
   ]
  },
  {
   "cell_type": "code",
   "execution_count": 28,
   "id": "ccbd9645-a2f0-4073-8e7f-cf7a27ae9e0f",
   "metadata": {},
   "outputs": [
    {
     "name": "stdin",
     "output_type": "stream",
     "text": [
      "Enter any no.: -6\n"
     ]
    },
    {
     "name": "stdout",
     "output_type": "stream",
     "text": [
      "The no is Negative\n"
     ]
    }
   ],
   "source": [
    "num=int(input(\"Enter any no.:\"))\n",
    "if(num<0):\n",
    "    print(\"The no is Negative\")\n",
    "else:\n",
    "    print(\"The no is Positive\")"
   ]
  },
  {
   "cell_type": "code",
   "execution_count": 40,
   "id": "936f8cbf-ab6a-46c3-b6a7-817185f4951c",
   "metadata": {},
   "outputs": [
    {
     "name": "stdin",
     "output_type": "stream",
     "text": [
      "Enter the no. 48\n"
     ]
    },
    {
     "name": "stdout",
     "output_type": "stream",
     "text": [
      "The num is not divisible of 5\n"
     ]
    }
   ],
   "source": [
    "num=int(input(\"Enter the no.\"))\n",
    "if(num%5==0):\n",
    "    print(\"The num is divisible of 5\")\n",
    "else:\n",
    "    print(\"The num is not divisible of 5\")\n"
   ]
  },
  {
   "cell_type": "code",
   "execution_count": null,
   "id": "8095eb1c-84ce-48bb-8af2-e6933ad7f7de",
   "metadata": {},
   "outputs": [],
   "source": []
  }
 ],
 "metadata": {
  "kernelspec": {
   "display_name": "Python 3 (ipykernel)",
   "language": "python",
   "name": "python3"
  },
  "language_info": {
   "codemirror_mode": {
    "name": "ipython",
    "version": 3
   },
   "file_extension": ".py",
   "mimetype": "text/x-python",
   "name": "python",
   "nbconvert_exporter": "python",
   "pygments_lexer": "ipython3",
   "version": "3.12.7"
  }
 },
 "nbformat": 4,
 "nbformat_minor": 5
}
