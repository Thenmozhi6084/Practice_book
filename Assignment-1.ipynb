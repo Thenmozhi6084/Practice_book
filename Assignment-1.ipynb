{
 "cells": [
  {
   "cell_type": "code",
   "execution_count": 4,
   "id": "65c64341-6d0a-4899-87ce-cfc9426b4da2",
   "metadata": {},
   "outputs": [
    {
     "name": "stdout",
     "output_type": "stream",
     "text": [
      "Welcome to Assignment-1\n"
     ]
    }
   ],
   "source": [
    "print (\"Welcome to Assignment-1\")"
   ]
  },
  {
   "cell_type": "code",
   "execution_count": 30,
   "id": "1e94bc4d-d958-4b98-bf51-9e79c141f508",
   "metadata": {},
   "outputs": [
    {
     "name": "stdin",
     "output_type": "stream",
     "text": [
      "Num 1= 20\n",
      "Num 2= 25\n"
     ]
    },
    {
     "name": "stdout",
     "output_type": "stream",
     "text": [
      "Add= 45\n"
     ]
    }
   ],
   "source": [
    "Number1=int(input (\"Num 1=\"))\n",
    "Number2=int(input (\"Num 2=\"))\n",
    "Add = Number1 + Number2\n",
    "print (\"Add=\",Add)"
   ]
  },
  {
   "cell_type": "code",
   "execution_count": 36,
   "id": "58cd4602-5d67-42ae-8e4d-da0705b51f5a",
   "metadata": {},
   "outputs": [
    {
     "name": "stdin",
     "output_type": "stream",
     "text": [
      "Enter the BMI: 15\n"
     ]
    },
    {
     "name": "stdout",
     "output_type": "stream",
     "text": [
      "Severly Underweight\n"
     ]
    }
   ],
   "source": [
    "BMI =float(input(\"Enter the BMI:\"))\n",
    "if(BMI<16.0):\n",
    "     print(\"Severly Underweight\")\n",
    "elif(BMI<18.4):\n",
    "     print(\"Underweight\")\n",
    "elif(BMI<24.9):\n",
    "     print(\"Normal\")\n",
    "elif(BMI<29.9):\n",
    "     print(\"Overweight\")\n",
    "elif(BMI<34.9):\n",
    "     print(\"Moderately Obese\")\n",
    "elif(BMI<39.9):\n",
    "     print(\"Severely Obese\")\n",
    "else:\n",
    "     print(\"Morbidly Obese\")"
   ]
  },
  {
   "cell_type": "code",
   "execution_count": null,
   "id": "7084753a-5af5-4646-9a02-26d239831034",
   "metadata": {},
   "outputs": [],
   "source": []
  }
 ],
 "metadata": {
  "kernelspec": {
   "display_name": "Python 3 (ipykernel)",
   "language": "python",
   "name": "python3"
  },
  "language_info": {
   "codemirror_mode": {
    "name": "ipython",
    "version": 3
   },
   "file_extension": ".py",
   "mimetype": "text/x-python",
   "name": "python",
   "nbconvert_exporter": "python",
   "pygments_lexer": "ipython3",
   "version": "3.12.7"
  }
 },
 "nbformat": 4,
 "nbformat_minor": 5
}
