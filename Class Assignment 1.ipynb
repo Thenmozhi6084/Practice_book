{
 "cells": [
  {
   "cell_type": "code",
   "execution_count": 20,
   "id": "7f770c65-eafe-40f1-b22c-65d7b0f63295",
   "metadata": {},
   "outputs": [],
   "source": [
    "class SubfieldsinAI:\n",
    "    def Subfields():\n",
    "        print(\"Subfield in AI are:\")\n",
    "        names=[\"Machine learning\", \"Neural Networks\", \"Vision\", \"Robotics\", \"Speech Processing\", \"Natural Language Processing\"]\n",
    "        for lists in names:\n",
    "            print(lists)"
   ]
  },
  {
   "cell_type": "code",
   "execution_count": 22,
   "id": "6975671a-7649-4f9a-9583-816533786459",
   "metadata": {},
   "outputs": [
    {
     "name": "stdout",
     "output_type": "stream",
     "text": [
      "Subfield in AI are:\n",
      "Machine learning\n",
      "Neural Networks\n",
      "Vision\n",
      "Robotics\n",
      "Speech Processing\n",
      "Natural Language Processing\n"
     ]
    }
   ],
   "source": [
    "SubfieldsinAI.Subfields()"
   ]
  },
  {
   "cell_type": "code",
   "execution_count": 26,
   "id": "bc97a2e9-59b4-491e-b4bf-f29e431661ea",
   "metadata": {},
   "outputs": [],
   "source": [
    "class Finding_odd_even:\n",
    "    def OddEven():\n",
    "            num=int(input(\"Enter the number:\"))\n",
    "            if (num%2==0):\n",
    "                print(\"The number is Even\")\n",
    "            else:\n",
    "                print(\"The number is Odd\")"
   ]
  },
  {
   "cell_type": "code",
   "execution_count": 28,
   "id": "8ac5d30b-c79b-43ef-b929-68b5fd2be000",
   "metadata": {},
   "outputs": [
    {
     "name": "stdin",
     "output_type": "stream",
     "text": [
      "Enter the number: 59\n"
     ]
    },
    {
     "name": "stdout",
     "output_type": "stream",
     "text": [
      "The number is Odd\n"
     ]
    }
   ],
   "source": [
    "Finding_odd_even.OddEven()"
   ]
  },
  {
   "cell_type": "code",
   "execution_count": 30,
   "id": "9f06d9eb-a4df-4e06-8ba5-b638ae6d09ec",
   "metadata": {},
   "outputs": [],
   "source": [
    "class Eligibility_for_marriage:\n",
    "    def MarriageEligibility():\n",
    "        gender=input(\"Enter your Gender:\")\n",
    "        age=int(input(\"Enter your Age:\"))\n",
    "        if((gender==\"Male\" or gender==\"Female\") & (age>=21 or age>=18)):\n",
    "            print(\"Eligible\")\n",
    "        else:\n",
    "            print(\"Not Eligible\")"
   ]
  },
  {
   "cell_type": "code",
   "execution_count": 38,
   "id": "0453a803-ca57-466b-8b06-dbb3b324d772",
   "metadata": {},
   "outputs": [
    {
     "name": "stdin",
     "output_type": "stream",
     "text": [
      "Enter your Gender: Male\n",
      "Enter your Age: 23\n"
     ]
    },
    {
     "name": "stdout",
     "output_type": "stream",
     "text": [
      "Eligible\n"
     ]
    }
   ],
   "source": [
    "Eligibility_for_marriage.MarriageEligibility()"
   ]
  },
  {
   "cell_type": "code",
   "execution_count": 40,
   "id": "45c026ce-36dc-4c6b-ad1b-abab617c2e28",
   "metadata": {},
   "outputs": [],
   "source": [
    "class Check_percentage:\n",
    "    def calpercentage():\n",
    "        print(\"Enter your marks:\")\n",
    "        prompts =[\"English:\",\"Tamil:\",\"Maths:\",\"Science:\",\"Social:\"]\n",
    "        total=0\n",
    "        responses =[int(input(prompt)) for prompt in prompts]\n",
    "        total = sum(responses)\n",
    "        Percentage=total/5\n",
    "        print(\"Total\",total)\n",
    "        print(\"Percentage\",Percentage)"
   ]
  },
  {
   "cell_type": "code",
   "execution_count": 42,
   "id": "b294089a-fa06-45a2-8d55-d7338b45aa1b",
   "metadata": {},
   "outputs": [
    {
     "name": "stdout",
     "output_type": "stream",
     "text": [
      "Enter your marks:\n"
     ]
    },
    {
     "name": "stdin",
     "output_type": "stream",
     "text": [
      "English: 96\n",
      "Tamil: 98\n",
      "Maths: 100\n",
      "Science: 97\n",
      "Social: 98\n"
     ]
    },
    {
     "name": "stdout",
     "output_type": "stream",
     "text": [
      "Total 489\n",
      "Percentage 97.8\n"
     ]
    }
   ],
   "source": [
    "Check_percentage.calpercentage()"
   ]
  },
  {
   "cell_type": "code",
   "execution_count": 46,
   "id": "525dc729-b0cd-4f1e-9bc7-740e53b7e41b",
   "metadata": {},
   "outputs": [],
   "source": [
    "class area_of_triangle:\n",
    "    def triangle():\n",
    "        height=int(input(\"Height:\"))\n",
    "        base=int(input(\"Base:\"))\n",
    "        side1=int(input(\"Side1:\"))\n",
    "        side2=int(input(\"Side2:\"))\n",
    "        side3=int(input(\"Side3:\"))\n",
    "        Area=(height*base)/2\n",
    "        Perimeter=side1+side2+side3\n",
    "        print(\"Area=\",Area)\n",
    "        print(\"Perimeter=\",Perimeter)"
   ]
  },
  {
   "cell_type": "code",
   "execution_count": 48,
   "id": "66353b3e-cde6-464b-aabf-0f982636a38b",
   "metadata": {},
   "outputs": [
    {
     "name": "stdin",
     "output_type": "stream",
     "text": [
      "Height: 52\n",
      "Base: 63\n",
      "Side1: 23\n",
      "Side2: 21\n",
      "Side3: 20\n"
     ]
    },
    {
     "name": "stdout",
     "output_type": "stream",
     "text": [
      "Area= 1638.0\n",
      "Perimeter= 64\n"
     ]
    }
   ],
   "source": [
    "area_of_triangle.triangle()"
   ]
  },
  {
   "cell_type": "code",
   "execution_count": null,
   "id": "aa4e5865-449d-4e8f-8667-86f1c46818b5",
   "metadata": {},
   "outputs": [],
   "source": []
  }
 ],
 "metadata": {
  "kernelspec": {
   "display_name": "Python 3 (ipykernel)",
   "language": "python",
   "name": "python3"
  },
  "language_info": {
   "codemirror_mode": {
    "name": "ipython",
    "version": 3
   },
   "file_extension": ".py",
   "mimetype": "text/x-python",
   "name": "python",
   "nbconvert_exporter": "python",
   "pygments_lexer": "ipython3",
   "version": "3.12.7"
  }
 },
 "nbformat": 4,
 "nbformat_minor": 5
}
