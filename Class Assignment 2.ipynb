{
 "cells": [
  {
   "cell_type": "code",
   "execution_count": 6,
   "id": "8f9a2c3f-3960-4cba-87f5-3808a7016ff7",
   "metadata": {},
   "outputs": [],
   "source": [
    "from Class_importing_data import FunctionAssignment1"
   ]
  },
  {
   "cell_type": "code",
   "execution_count": 10,
   "id": "004c6936-a3b4-4d7f-9a08-e54ceb20a250",
   "metadata": {},
   "outputs": [
    {
     "name": "stdin",
     "output_type": "stream",
     "text": [
      "Enter your Gender: Female\n",
      "Enter your Age: 19\n"
     ]
    },
    {
     "name": "stdout",
     "output_type": "stream",
     "text": [
      "Eligible\n"
     ]
    }
   ],
   "source": [
    "FunctionAssignment1.MarriageEligibility()"
   ]
  },
  {
   "cell_type": "code",
   "execution_count": 14,
   "id": "c18019dc-6bc0-4c86-b800-ff41f477eff0",
   "metadata": {},
   "outputs": [
    {
     "name": "stdin",
     "output_type": "stream",
     "text": [
      "Height: 23\n",
      "Base: 21\n",
      "Side1: 20\n",
      "Side2: 20\n",
      "Side3: 21\n"
     ]
    },
    {
     "name": "stdout",
     "output_type": "stream",
     "text": [
      "Area= 241.5\n",
      "Perimeter= 61\n"
     ]
    }
   ],
   "source": [
    "FunctionAssignment1.triangle()"
   ]
  },
  {
   "cell_type": "code",
   "execution_count": 16,
   "id": "3d8e827b-1a6f-4b42-8b19-cb6facaeb344",
   "metadata": {},
   "outputs": [
    {
     "name": "stdout",
     "output_type": "stream",
     "text": [
      "Machine learning\n",
      "Neural Networks\n",
      "Vision\n",
      "Robotics\n",
      "Speech Processing\n",
      "Natural Language Processing\n"
     ]
    }
   ],
   "source": [
    "FunctionAssignment1.SubfieldsinAI()"
   ]
  },
  {
   "cell_type": "code",
   "execution_count": null,
   "id": "31a2b858-bb3a-4d79-bd8a-52a0a6945f9d",
   "metadata": {},
   "outputs": [],
   "source": []
  }
 ],
 "metadata": {
  "kernelspec": {
   "display_name": "Python 3 (ipykernel)",
   "language": "python",
   "name": "python3"
  },
  "language_info": {
   "codemirror_mode": {
    "name": "ipython",
    "version": 3
   },
   "file_extension": ".py",
   "mimetype": "text/x-python",
   "name": "python",
   "nbconvert_exporter": "python",
   "pygments_lexer": "ipython3",
   "version": "3.12.7"
  }
 },
 "nbformat": 4,
 "nbformat_minor": 5
}
