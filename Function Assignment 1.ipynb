{
 "cells": [
  {
   "cell_type": "code",
   "execution_count": 74,
   "id": "c837c14a-649c-4def-ab46-d94fc736c338",
   "metadata": {},
   "outputs": [],
   "source": [
    "def SubfieldsinAI ():\n",
    "    names=[\"Machine learning\", \"Neural Networks\", \"Vision\", \"Robotics\", \"Speech Processing\", \"Natural Language Processing\"]\n",
    "    for lists in names:\n",
    "        print(lists)"
   ]
  },
  {
   "cell_type": "code",
   "execution_count": 76,
   "id": "2d9983fc-1a71-4925-8a07-2694a81ad6e1",
   "metadata": {},
   "outputs": [
    {
     "name": "stdout",
     "output_type": "stream",
     "text": [
      "Machine learning\n",
      "Neural Networks\n",
      "Vision\n",
      "Robotics\n",
      "Speech Processing\n",
      "Natural Language Processing\n"
     ]
    }
   ],
   "source": [
    "SubfieldsinAI ()"
   ]
  },
  {
   "cell_type": "code",
   "execution_count": 78,
   "id": "6b3edc8d-fbaa-4908-be04-c12edbae6a5c",
   "metadata": {},
   "outputs": [],
   "source": [
    "def OddEven():\n",
    "    num=int(input(\"Enter the number:\"))\n",
    "    if (num%2==0):\n",
    "        print(\"The number is Even\")\n",
    "    else:\n",
    "        print(\"The number is Odd\")"
   ]
  },
  {
   "cell_type": "code",
   "execution_count": 80,
   "id": "0c3d978b-1ce2-4885-958f-bee67360a515",
   "metadata": {},
   "outputs": [
    {
     "name": "stdin",
     "output_type": "stream",
     "text": [
      "Enter the number: 347985\n"
     ]
    },
    {
     "name": "stdout",
     "output_type": "stream",
     "text": [
      "The number is Odd\n"
     ]
    }
   ],
   "source": [
    "OddEven()"
   ]
  },
  {
   "cell_type": "code",
   "execution_count": 130,
   "id": "2e4b41bd-e5b0-4831-9f19-8daa8b6d02e8",
   "metadata": {},
   "outputs": [],
   "source": [
    "def MarriageEligibility():\n",
    "    gender=input(\"Enter your Gender:\")\n",
    "    age=int(input(\"Enter your Age:\"))\n",
    "    if((gender==\"Male\" or gender==\"Female\") & (age>=21 or age>=18)):\n",
    "        print(\"Eligible\")\n",
    "    else:\n",
    "        print(\"Not Eligible\")"
   ]
  },
  {
   "cell_type": "code",
   "execution_count": 138,
   "id": "9f02db8c-c71b-41bf-8a34-d335af448178",
   "metadata": {},
   "outputs": [
    {
     "name": "stdin",
     "output_type": "stream",
     "text": [
      "Enter your Gender: Female\n",
      "Enter your Age: 16\n"
     ]
    },
    {
     "name": "stdout",
     "output_type": "stream",
     "text": [
      "Not Eligible\n"
     ]
    }
   ],
   "source": [
    "MarriageEligibility()"
   ]
  },
  {
   "cell_type": "code",
   "execution_count": 116,
   "id": "48f45198-2982-434d-92a1-b6c4fb379a65",
   "metadata": {},
   "outputs": [],
   "source": [
    "def calpercentage():\n",
    "    print(\"Enter your marks:\")\n",
    "    prompts =[\"English:\",\"Tamil:\",\"Maths:\",\"Science:\",\"Social:\"]\n",
    "    total=0\n",
    "    responses =[int(input(prompt)) for prompt in prompts]\n",
    "    total = sum(responses)\n",
    "    Percentage=total/5\n",
    "    print(\"Total\",total)\n",
    "    print(\"Percentage\",Percentage)\n",
    "    "
   ]
  },
  {
   "cell_type": "code",
   "execution_count": 118,
   "id": "1131dfdc-6f5e-4e06-88bb-1638ccde2319",
   "metadata": {},
   "outputs": [
    {
     "name": "stdout",
     "output_type": "stream",
     "text": [
      "Enter your marks:\n"
     ]
    },
    {
     "name": "stdin",
     "output_type": "stream",
     "text": [
      "English: 89\n",
      "Tamil: 78\n",
      "Maths: 66\n",
      "Science: 48\n",
      "Social: 55\n"
     ]
    },
    {
     "name": "stdout",
     "output_type": "stream",
     "text": [
      "Total 336\n",
      "Percentage 67.2\n"
     ]
    }
   ],
   "source": [
    "calpercentage()"
   ]
  },
  {
   "cell_type": "code",
   "execution_count": 10,
   "id": "e15a4bda-a3f4-4428-93e5-805d4ff75674",
   "metadata": {},
   "outputs": [],
   "source": [
    "def triangle():\n",
    "    height=int(input(\"Height:\"))\n",
    "    base=int(input(\"Base:\"))\n",
    "    side1=int(input(\"Side1:\"))\n",
    "    side2=int(input(\"Side2:\"))\n",
    "    side3=int(input(\"Side3:\"))\n",
    "    Area=(height*base)/2\n",
    "    Perimeter=side1+side2+side3\n",
    "    print(\"Area=\",Area)\n",
    "    print(\"Perimeter=\",Perimeter)"
   ]
  },
  {
   "cell_type": "code",
   "execution_count": 12,
   "id": "720d5252-6ffd-41ce-876c-4d969a1dbcd1",
   "metadata": {},
   "outputs": [
    {
     "name": "stdin",
     "output_type": "stream",
     "text": [
      "Height: 23\n",
      "Base: 22\n",
      "Side1: 25\n",
      "Side2: 22\n",
      "Side3: 21\n"
     ]
    },
    {
     "name": "stdout",
     "output_type": "stream",
     "text": [
      "Area= 253.0\n",
      "Perimeter= 68\n"
     ]
    }
   ],
   "source": [
    "triangle()"
   ]
  },
  {
   "cell_type": "code",
   "execution_count": null,
   "id": "fc18a12b-53c5-4451-aedf-f65da101a205",
   "metadata": {},
   "outputs": [],
   "source": []
  }
 ],
 "metadata": {
  "kernelspec": {
   "display_name": "Python 3 (ipykernel)",
   "language": "python",
   "name": "python3"
  },
  "language_info": {
   "codemirror_mode": {
    "name": "ipython",
    "version": 3
   },
   "file_extension": ".py",
   "mimetype": "text/x-python",
   "name": "python",
   "nbconvert_exporter": "python",
   "pygments_lexer": "ipython3",
   "version": "3.12.7"
  }
 },
 "nbformat": 4,
 "nbformat_minor": 5
}
