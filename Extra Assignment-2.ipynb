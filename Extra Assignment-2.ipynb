{
 "cells": [
  {
   "cell_type": "code",
   "execution_count": 8,
   "id": "7b1bda21-b8d7-4e72-9386-d8c7a6644406",
   "metadata": {},
   "outputs": [
    {
     "name": "stdout",
     "output_type": "stream",
     "text": [
      "0\n",
      "1\n",
      "2\n",
      "3\n",
      "4\n",
      "5\n",
      "6\n",
      "7\n",
      "8\n",
      "9\n",
      "10\n",
      "11\n",
      "12\n",
      "13\n",
      "14\n",
      "15\n",
      "16\n",
      "17\n",
      "18\n",
      "19\n"
     ]
    }
   ],
   "source": [
    "for series in range(20):\n",
    "    print(series)"
   ]
  },
  {
   "cell_type": "code",
   "execution_count": 14,
   "id": "b2c5d9be-7ed3-4548-9e2e-2d482d127215",
   "metadata": {},
   "outputs": [
    {
     "name": "stdout",
     "output_type": "stream",
     "text": [
      "0 1 2 3 4 5 6 7 8 9 10 11 12 13 14 15 16 17 18 19 "
     ]
    }
   ],
   "source": [
    "for series in range(20):\n",
    "    print(series,end=' ')"
   ]
  },
  {
   "cell_type": "code",
   "execution_count": 50,
   "id": "82f6a0b1-0aa5-4521-902e-172839ee5ad3",
   "metadata": {},
   "outputs": [
    {
     "name": "stdout",
     "output_type": "stream",
     "text": [
      "10 20 14 55 43 87 76 Number of items in list: 7\n"
     ]
    }
   ],
   "source": [
    "list =[10,20,14,55,43,87,76]\n",
    "for lists in list:\n",
    "    print(lists,end=' ')\n",
    "    x=len(list)\n",
    "print(\"Number of items in list:\", x)\n",
    "    \n"
   ]
  },
  {
   "cell_type": "code",
   "execution_count": 47,
   "id": "33c9de7d-d13b-4c45-8b23-6b031dca4f49",
   "metadata": {},
   "outputs": [
    {
     "name": "stdout",
     "output_type": "stream",
     "text": [
      "A\n",
      "r\n",
      "t\n",
      "i\n",
      "f\n",
      "i\n",
      "c\n",
      "i\n",
      "a\n",
      "l\n",
      " \n",
      "I\n",
      "n\n",
      "t\n",
      "e\n",
      "l\n",
      "l\n",
      "i\n",
      "g\n",
      "e\n",
      "n\n",
      "c\n",
      "e\n"
     ]
    }
   ],
   "source": [
    "s = 'Artificial Intelligence'\n",
    "len(s)\n",
    "for line in range(len(s)):\n",
    "    print (s[line])\n",
    "\n"
   ]
  },
  {
   "cell_type": "code",
   "execution_count": 14,
   "id": "df5ef968-fb08-48de-b287-806a5e49a760",
   "metadata": {},
   "outputs": [
    {
     "name": "stdout",
     "output_type": "stream",
     "text": [
      "(1, 'Welcome', 2, 'Hope')\n"
     ]
    }
   ],
   "source": [
    "t = (1,'Welcome', 2, 'Hope')\n",
    "print (tuple(t))"
   ]
  },
  {
   "cell_type": "code",
   "execution_count": 20,
   "id": "5a0a474c-9fdc-4b2c-ba64-89a6499b5d74",
   "metadata": {},
   "outputs": [
    {
     "name": "stdout",
     "output_type": "stream",
     "text": [
      "(0, 1, 2, 3) ('python', 'HOPE')\n"
     ]
    }
   ],
   "source": [
    "list1=(0,1,2,3)\n",
    "string2=('python', 'HOPE')\n",
    "print (tuple(list1),tuple(string2))"
   ]
  },
  {
   "cell_type": "code",
   "execution_count": 46,
   "id": "a642315e-033a-4a1c-a41d-392784e9cce4",
   "metadata": {},
   "outputs": [
    {
     "name": "stdout",
     "output_type": "stream",
     "text": [
      "20 The no is even\n",
      "10 The no is even\n",
      "16 The no is even\n",
      "19 The no is odd\n",
      "25 The no is odd\n",
      "1 The no is odd\n",
      "276 The no is even\n",
      "188 The no is even\n"
     ]
    }
   ],
   "source": [
    "list1=[20,10,16,19,25,1,276,188]\n",
    "for num in list1:\n",
    "    if (num%2==0):\n",
    "        print(num,\"The no is even\")\n",
    "    else:\n",
    "        print(num,\"The no is odd\")"
   ]
  },
  {
   "cell_type": "code",
   "execution_count": null,
   "id": "589553a0-4f7c-47f4-9bc2-7fc05c56ff7b",
   "metadata": {},
   "outputs": [],
   "source": []
  }
 ],
 "metadata": {
  "kernelspec": {
   "display_name": "Python 3 (ipykernel)",
   "language": "python",
   "name": "python3"
  },
  "language_info": {
   "codemirror_mode": {
    "name": "ipython",
    "version": 3
   },
   "file_extension": ".py",
   "mimetype": "text/x-python",
   "name": "python",
   "nbconvert_exporter": "python",
   "pygments_lexer": "ipython3",
   "version": "3.12.7"
  }
 },
 "nbformat": 4,
 "nbformat_minor": 5
}
