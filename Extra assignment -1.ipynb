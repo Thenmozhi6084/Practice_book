{
 "cells": [
  {
   "cell_type": "code",
   "execution_count": 2,
   "id": "0da2e703-321f-452b-86a4-24dfd790e890",
   "metadata": {},
   "outputs": [
    {
     "name": "stdout",
     "output_type": "stream",
     "text": [
      "HOPE AI\n"
     ]
    }
   ],
   "source": [
    "print(\"HOPE AI\")"
   ]
  },
  {
   "cell_type": "code",
   "execution_count": 4,
   "id": "77c31c42-6dfc-4f4c-878c-be897e265bd1",
   "metadata": {},
   "outputs": [
    {
     "name": "stdin",
     "output_type": "stream",
     "text": [
      "Enter your institute name: Hope AI\n"
     ]
    },
    {
     "data": {
      "text/plain": [
       "'Hope AI'"
      ]
     },
     "execution_count": 4,
     "metadata": {},
     "output_type": "execute_result"
    }
   ],
   "source": [
    "input(\"Enter your institute name:\")"
   ]
  },
  {
   "cell_type": "code",
   "execution_count": 8,
   "id": "b13952dd-c3f6-4508-bb65-c6a52d8002f3",
   "metadata": {},
   "outputs": [
    {
     "name": "stdin",
     "output_type": "stream",
     "text": [
      "Enter your name: Thenmozhi\n",
      "Enter your age: 34\n",
      "Enter your college name: Gojan\n",
      "Enter your degree: B.E, ECE\n"
     ]
    },
    {
     "data": {
      "text/plain": [
       "'B.E, ECE'"
      ]
     },
     "execution_count": 8,
     "metadata": {},
     "output_type": "execute_result"
    }
   ],
   "source": [
    "input(\"Enter your name:\")\n",
    "input(\"Enter your age:\")\n",
    "input(\"Enter your college name:\")\n",
    "input(\"Enter your degree:\")"
   ]
  },
  {
   "cell_type": "code",
   "execution_count": 16,
   "id": "54967530-5477-4b3a-85a2-2a25778b3558",
   "metadata": {},
   "outputs": [
    {
     "name": "stdin",
     "output_type": "stream",
     "text": [
      "a= 5\n",
      "b= 10\n"
     ]
    },
    {
     "name": "stdout",
     "output_type": "stream",
     "text": [
      "add= 15\n"
     ]
    }
   ],
   "source": [
    "a=int(input(\"a=\"))\n",
    "b=int(input(\"b=\"))\n",
    "add = a+b\n",
    "print (\"add=\",add)"
   ]
  },
  {
   "cell_type": "code",
   "execution_count": 18,
   "id": "5de2ab9d-06c2-442f-9e18-0c14f7d3db97",
   "metadata": {},
   "outputs": [
    {
     "name": "stdin",
     "output_type": "stream",
     "text": [
      "a= 25\n",
      "b= 5\n"
     ]
    },
    {
     "name": "stdout",
     "output_type": "stream",
     "text": [
      "sub= 20\n"
     ]
    }
   ],
   "source": [
    "a=int(input(\"a=\"))\n",
    "b=int(input(\"b=\"))\n",
    "sub = a-b\n",
    "print (\"sub=\",sub)"
   ]
  },
  {
   "cell_type": "code",
   "execution_count": 20,
   "id": "23d1b196-e589-4724-b2d6-4948b565a31e",
   "metadata": {},
   "outputs": [
    {
     "name": "stdin",
     "output_type": "stream",
     "text": [
      "a= 10\n",
      "b= 5\n"
     ]
    },
    {
     "name": "stdout",
     "output_type": "stream",
     "text": [
      "Mul= 50\n"
     ]
    }
   ],
   "source": [
    "a=int(input(\"a=\"))\n",
    "b=int(input(\"b=\"))\n",
    "mul = a*b\n",
    "print (\"Mul=\",mul)"
   ]
  },
  {
   "cell_type": "code",
   "execution_count": 22,
   "id": "cace769b-e07e-4a22-b0c5-d2731f0b5357",
   "metadata": {},
   "outputs": [
    {
     "name": "stdin",
     "output_type": "stream",
     "text": [
      "a= 25\n",
      "b= 5\n"
     ]
    },
    {
     "name": "stdout",
     "output_type": "stream",
     "text": [
      "Div= 5.0\n"
     ]
    }
   ],
   "source": [
    "a=int(input(\"a=\"))\n",
    "b=int(input(\"b=\"))\n",
    "div = a/b\n",
    "print (\"Div=\",div)"
   ]
  },
  {
   "cell_type": "code",
   "execution_count": 28,
   "id": "c14b0420-b269-427f-bb21-f0a515aa0192",
   "metadata": {},
   "outputs": [
    {
     "name": "stdin",
     "output_type": "stream",
     "text": [
      "a= 63\n",
      "b= 2\n"
     ]
    },
    {
     "name": "stdout",
     "output_type": "stream",
     "text": [
      "Floor Div= 31\n"
     ]
    }
   ],
   "source": [
    "a=int(input(\"a=\"))\n",
    "b=int(input(\"b=\"))\n",
    "div = a//b\n",
    "print (\"Floor Div=\",div)"
   ]
  },
  {
   "cell_type": "code",
   "execution_count": 30,
   "id": "ebac0966-6686-4030-918b-9f86960baada",
   "metadata": {},
   "outputs": [
    {
     "name": "stdin",
     "output_type": "stream",
     "text": [
      "a= 75\n",
      "b= 30\n"
     ]
    },
    {
     "name": "stdout",
     "output_type": "stream",
     "text": [
      "Mod= 15\n"
     ]
    }
   ],
   "source": [
    "a=int(input(\"a=\"))\n",
    "b=int(input(\"b=\"))\n",
    "mod = a%b\n",
    "print (\"Mod=\",mod)"
   ]
  },
  {
   "cell_type": "code",
   "execution_count": 40,
   "id": "7e8d2062-98ae-4477-86da-70bcd29ad941",
   "metadata": {},
   "outputs": [
    {
     "name": "stdin",
     "output_type": "stream",
     "text": [
      "a= 5\n",
      "b= 2\n"
     ]
    },
    {
     "name": "stdout",
     "output_type": "stream",
     "text": [
      "Pow= 25\n"
     ]
    }
   ],
   "source": [
    "a=int(input(\"a=\"))\n",
    "b=int(input(\"b=\"))\n",
    "print(\"Pow=\",pow(a,b))\n"
   ]
  },
  {
   "cell_type": "code",
   "execution_count": null,
   "id": "e67f6d02-6bac-4bd1-91c4-4b216557cb83",
   "metadata": {},
   "outputs": [],
   "source": []
  }
 ],
 "metadata": {
  "kernelspec": {
   "display_name": "Python 3 (ipykernel)",
   "language": "python",
   "name": "python3"
  },
  "language_info": {
   "codemirror_mode": {
    "name": "ipython",
    "version": 3
   },
   "file_extension": ".py",
   "mimetype": "text/x-python",
   "name": "python",
   "nbconvert_exporter": "python",
   "pygments_lexer": "ipython3",
   "version": "3.12.7"
  }
 },
 "nbformat": 4,
 "nbformat_minor": 5
}
